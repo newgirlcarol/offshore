{
 "cells": [
  {
   "cell_type": "markdown",
   "id": "ada3afbc",
   "metadata": {},
   "source": [
    "### 世紀風電 data cleaning\n",
    "\n",
    "Step 1.各assembly要加註到各工站裡(ex.TP + Upper JKT -> TP + Upper JKT_Full JKT Assembly)  \n",
    "Step 2.複製檔案路徑去讀取檔案  \n",
    "Step 3.將data_d調整為資料提供的日期"
   ]
  },
  {
   "cell_type": "code",
   "execution_count": null,
   "id": "49e300bf",
   "metadata": {
    "scrolled": true
   },
   "outputs": [],
   "source": [
    "import pandas as pd\n",
    "from datetime import date\n",
    "\n",
    "# 讀取檔案\n",
    "df = pd.read_excel(r\"D:\\Users\\c1635\\Desktop\\世紀0503.xlsx\")\n",
    "\n",
    "# Start cleaning data 資料取得日期設定\n",
    "# data_d = pd.DatetimeIndex([date(2023, 4, 12).isoformat()]*len(df)) #裡面數字需要調整\n",
    "# df.insert(loc=0, column=\"Date\", value=data_d)\n",
    "# 先把不要的欄位刪除\n",
    "# df = df.drop(columns=\"Activity Name\")\n",
    "\n",
    "# 不同階段分開成 DataFrame, lot->階段, assembly->組裝階段, site->工作站\n",
    "lot = df[df[\"Activity ID\"].str.match(\"  [A-Z]\") == True]\n",
    "assembly = df[df[\"Activity ID\"].str.match(\"    [A-Z]\") == True]\n",
    "site = df[df[\"Activity ID\"].str.match(\"      [A-Z]\") == True]"
   ]
  },
  {
   "cell_type": "code",
   "execution_count": null,
   "id": "fa8093aa",
   "metadata": {},
   "outputs": [],
   "source": [
    "# 將日期文字格式改為日期格式\n",
    "trans = [\"BL Project Start\", \"BL Project Finish\", \"Actual Start\", \"Actual Finish\"]\n",
    "for i in trans:\n",
    "    df[i] = pd.to_datetime(df[i])"
   ]
  },
  {
   "cell_type": "code",
   "execution_count": null,
   "id": "3cfabe3c",
   "metadata": {},
   "outputs": [],
   "source": [
    "# df.loc[393:395]"
   ]
  },
  {
   "cell_type": "code",
   "execution_count": null,
   "id": "652f78c5",
   "metadata": {
    "scrolled": true
   },
   "outputs": [],
   "source": [
    "# 將工站作業階段取出到 list 內, 找出 index 後放到 Jktid row(index+1) \n",
    "states = []\n",
    "for state in site[\"Activity ID\"]:\n",
    "    states.append(state)\n",
    "\n",
    "# 找出工站的 index，再放到 index+1 row \n",
    "for i in range(0,len(states)):\n",
    "    num = df.index[df[\"Activity ID\"] == states[i]]\n",
    "    df.loc[num+1, \"temp\"] = states[i]\n",
    "    new = df[\"temp\"].str.split(\"_\", n = 1, expand = True)\n",
    "\n",
    "    df[\"Work State\"] = new[0]\n",
    "    df[\"Assembly State\"] = new[1]\n"
   ]
  },
  {
   "cell_type": "code",
   "execution_count": null,
   "id": "33b189dc",
   "metadata": {},
   "outputs": [],
   "source": [
    "# 將階段取出到 list 內, 找出 index 後放到 Jktid row(index+3) \n",
    "phases = []\n",
    "for phase in lot[\"Activity ID\"]:\n",
    "    phases.append(phase)\n",
    "\n",
    "for i in range(0, len(phases)):\n",
    "    num = df.index[df[\"Activity ID\"] == phases[i]]\n",
    "    \n",
    "    df.loc[num+3, \"Phase\"] = phases[i]"
   ]
  },
  {
   "cell_type": "code",
   "execution_count": null,
   "id": "a1361e8f",
   "metadata": {},
   "outputs": [],
   "source": [
    "df2 = df.drop([\"temp\"], axis=1)\n",
    "jkt = df2[df2[\"Activity ID\"].str.match(\"        \\w\") == True]\n",
    "stripls = [\"Activity ID\", \"Work State\",\"Assembly State\", \"Phase\"]\n",
    "for i in stripls:\n",
    "    jkt[i] = jkt[i].str.lstrip()\n",
    "# jkt[\"Work State\"] = jkt[\"Work State\"].str.lstrip()\n",
    "# jkt[\"Assembly State\"] = jkt[\"Assembly State\"].str.lstrip()\n",
    "# jkt[\"Phase\"] = jkt[\"Phase\"].str.lstrip()"
   ]
  },
  {
   "cell_type": "code",
   "execution_count": null,
   "id": "0c30d80a",
   "metadata": {},
   "outputs": [],
   "source": [
    "# jkt = jkt.drop(columns=[\"Original Duration\", \"Start\",\"Finish\"])"
   ]
  },
  {
   "cell_type": "code",
   "execution_count": null,
   "id": "eca0f208",
   "metadata": {},
   "outputs": [],
   "source": [
    "import xlwings as xw\n",
    "wb = xw.Book()\n",
    "\n",
    "stages = [\"lot\", \"assembly\", \"site\", \"jkt\"]\n",
    "for stage in stages:\n",
    "    wb.sheets.add(stage)\n",
    "\n",
    "wb.sheets[\"lot\"].range(\"A1\").options(index=False).value = lot\n",
    "wb.sheets[\"assembly\"].range(\"A1\").options(index=False).value = assembly\n",
    "wb.sheets[\"site\"].range(\"A1\").options(index=False).value = site\n",
    "wb.sheets[\"jkt\"].range(\"A1\").options(index=False).value = jkt"
   ]
  },
  {
   "cell_type": "markdown",
   "id": "1b668d9e",
   "metadata": {},
   "source": [
    "### 興達海基 data cleaning\n",
    "\n",
    "原始資料 -> 一個工站一張sheet -> 合併成一張sheet -> 總表update興達new資訊  \n",
    "\n",
    "Step 1.複製excel路徑  \n",
    "Step 2.將合併好的Workbook另存為【興達new】在桌面上\n",
    "Step 3.篩選出-符號，delete符號，這樣才不會噴Error\n",
    "Step 3.將BI data內的興達海基，Ctrl+T選取後，改資料表名稱為【raw_data】  \n",
    "Step 4.興達海基.xlsx[大表] 進行重新整理  \n",
    "Step 5.記得 Save\n"
   ]
  },
  {
   "cell_type": "code",
   "execution_count": null,
   "id": "31910502",
   "metadata": {},
   "outputs": [],
   "source": [
    "import pandas as pd\n",
    "import xlwings as xw\n",
    "\n",
    "wb = xw.Book(r\"D:\\2023_OffshoreWindPlan\\# data\\# 中心廠生產進度資料\\興達海基\\230413\\SDMS__LV4_20230413.xlsx\") #貼上連結\n",
    "data = []\n",
    "for num in range(0,len(wb.sheets)):\n",
    "    sheet = wb.sheets[num]\n",
    "    last_row = sheet.range(\"A7\").end(\"down\").row\n",
    "    for i in range(7, last_row+1):\n",
    "        data_row = sheet.range(f\"A{i}:G{i}\").value\n",
    "        data.append(data_row)\n",
    "        \n",
    "df = pd.DataFrame(data)\n",
    "df.columns = [\"Activity Name\",\n",
    "              \"Plan Start\",\n",
    "              \"Plan Finish\",\n",
    "              \"Actual Start\",\n",
    "              \"Actual Finish\",\n",
    "              \"Plan Duration\",\n",
    "              \"Actual Duration\"\n",
    "             ]\n",
    "\n",
    "new_wb = xw.Book()\n",
    "new_sheet = new_wb.sheets[0]\n",
    "new_sheet.range(\"A1\").options(index=False).value = df"
   ]
  },
  {
   "cell_type": "markdown",
   "id": "5b246ca0",
   "metadata": {},
   "source": [
    "### Update data values"
   ]
  },
  {
   "cell_type": "code",
   "execution_count": null,
   "id": "ed6bc40d",
   "metadata": {},
   "outputs": [],
   "source": [
    "import pandas as pd\n",
    "import xlwings as xw\n",
    "\n",
    "original_df = pd.read_excel(r\"D:\\2023_OffshoreWindPlan\\# data\\$ BIdata\\興達海基.xlsx\")\n",
    "new_df = pd.read_excel(r\"D:\\Users\\c1635\\Desktop\\興達new.xlsx\")\n",
    "\n",
    "trans = [\"Plan Start\", \"Plan Finish\", \"Actual Start\", \"Actual Finish\"]\n",
    "for i in trans:\n",
    "    original_df[i] = pd.to_datetime(original_df[i])\n",
    "    new_df[i] = pd.to_datetime(new_df[i])\n",
    "    \n",
    "original_df.set_index(\"Original Acitity Name\",inplace=True)\n",
    "original_df.update(new_df.set_index('Activity Name'))\n",
    "original_df.reset_index()\n",
    "\n",
    "\n",
    "\n",
    "wb = xw.Book(r\"D:\\2023_OffshoreWindPlan\\# data\\$ BIdata\\興達海基.xlsx\")\n",
    "sheet = wb.sheets[0]\n",
    "\n",
    "sheet.range(\"A1\").value = original_df"
   ]
  },
  {
   "cell_type": "code",
   "execution_count": null,
   "id": "109d04ea",
   "metadata": {},
   "outputs": [],
   "source": []
  }
 ],
 "metadata": {
  "kernelspec": {
   "display_name": "Python 3 (ipykernel)",
   "language": "python",
   "name": "python3"
  },
  "language_info": {
   "codemirror_mode": {
    "name": "ipython",
    "version": 3
   },
   "file_extension": ".py",
   "mimetype": "text/x-python",
   "name": "python",
   "nbconvert_exporter": "python",
   "pygments_lexer": "ipython3",
   "version": "3.9.13"
  }
 },
 "nbformat": 4,
 "nbformat_minor": 5
}
